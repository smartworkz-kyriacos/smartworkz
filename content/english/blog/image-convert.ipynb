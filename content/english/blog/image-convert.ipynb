{
 "cells": [
  {
   "cell_type": "markdown",
   "metadata": {},
   "source": [
    "# How to Resize Images in Python using Pillow\n",
    "\n",
    "In this tutorial, you’ll learn how to resize an image in Python using the Pillow library. You’ll learn how to resize individual images and multiple images in bulk. You’ll also learn how to specify a percentage to scale by, a maximum width, and a maximum height.\n",
    "\n",
    "By the end of this tutorial, you’ll have learned:\n",
    "\n",
    "- How to use the PIL library to open and resize an image\n",
    "- How to use Python to resize images in bulk\n",
    "- How to maintain an aspect ratio while resizing images in Python"
   ]
  },
  {
   "cell_type": "markdown",
   "metadata": {},
   "source": [
    "## How to Open an Image with Pillow\n",
    "\n",
    "In order to resize an image using Python, we first need to open the image that we’re working with. For this, we can use the Pillow library. The library isn’t part of the standard Python library. Because of this, we first need to install it. This can be done using either pip or conda, as shown below:"
   ]
  },
  {
   "cell_type": "code",
   "execution_count": null,
   "metadata": {},
   "outputs": [],
   "source": [
    "# Installing the Pillow library\n",
    "%pip install pillow\n",
    "# conda install pillow"
   ]
  },
  {
   "cell_type": "markdown",
   "metadata": {},
   "source": [
    "Now that we have the library installed, we can load an image using Pillow. This can be done using the Image module in Pillow:"
   ]
  },
  {
   "cell_type": "code",
   "execution_count": null,
   "metadata": {},
   "outputs": [],
   "source": [
    "# Opening an Image using Pillow\n",
    "from PIL import Image\n",
    "with Image.open ('https://e6v4p8w2.rocketcdn.me/Users/datagy/Desktop/Original.png') as im:\n",
    "    im.show()"
   ]
  },
  {
   "cell_type": "markdown",
   "metadata": {},
   "source": [
    "Running this code using a context manager safely manages memory. \n",
    "Once the indented code is done running, the image is closed and the memory is safely purged.\n",
    "\n",
    "We can check the current dimensions of the image by using the .size attribute. \n",
    "The attribute returns a tuple containing the width and height of the image:"
   ]
  },
  {
   "cell_type": "code",
   "execution_count": null,
   "metadata": {},
   "outputs": [],
   "source": [
    "# Getting Dimensions of an Image in Pillow\n",
    "from PIL import Image\n",
    "with Image.open ('https://e6v4p8w2.rocketcdn.me/Users/datagy/Desktop/Original.png') as im:\n",
    "    print(im.size)\n",
    "# Returns: (930, 620)"
   ]
  },
  {
   "cell_type": "markdown",
   "metadata": {},
   "source": [
    "Now that we have safely opened the image, we can start on resizing the image using Pillow.\n",
    "\n",
    "## How to Resize an Image with Pillow resize\n",
    "\n",
    "The Python Pillow library provides two ways in which to resize an image: resize() and thumbnail(). In this section, we’ll use the Pillow resize method to resize an image. This method allows you to:\n",
    "\n",
    "- Upscale and downscale an image, by providing specific dimensions\n",
    "- Resize an image even the aspect ratio doesn’t match the original image\n",
    "\n",
    "Let’s take a look at the Pillow .resize() method:"
   ]
  },
  {
   "cell_type": "code",
   "execution_count": null,
   "metadata": {},
   "outputs": [],
   "source": [
    "# The Python Pillow .resize() Method\n",
    "Image.resize(\n",
    "    size,               # Tuple representing size\n",
    "    resample=None,      # Optional resampling filter\n",
    "    box=None,           # Optional bounding box to resize\n",
    "    reducing_gap=None   # Optional optimization\n",
    "    )"
   ]
  },
  {
   "cell_type": "markdown",
   "metadata": {},
   "source": [
    "To keep things simple, we’ll focus on the size= parameter. This allows us to pass in the new dimensions in a tuple of length two.\n",
    "\n",
    "Let’s see how we can pass in a tuple containing the new width and height of the image:"
   ]
  },
  {
   "cell_type": "code",
   "execution_count": null,
   "metadata": {},
   "outputs": [],
   "source": [
    "# Resizing an Image using Pillow .resize()\n",
    "from PIL import Image\n",
    "with Image.open ('https://e6v4p8w2.rocketcdn.me/Users/datagy/Desktop/Original.png') as im:\n",
    "    resized = im.resize((600,400))\n",
    "    resized.show()"
   ]
  },
  {
   "cell_type": "markdown",
   "metadata": {},
   "source": [
    "Running this code changes the dimensions of the image to (600,400). This returns the following image:\n",
    "\n",
    "Python Resize Images Resized\n",
    "The resized image\n",
    "\n",
    "\n",
    "Using the .show() method allows us to open the image. If we wanted to save the image, we could instead write:"
   ]
  },
  {
   "cell_type": "code",
   "execution_count": null,
   "metadata": {},
   "outputs": [
    {
     "ename": "",
     "evalue": "",
     "output_type": "error",
     "traceback": [
      "\u001b[1;31mRunning cells with 'Python 3.10.8 64-bit (microsoft store)' requires ipykernel package.\n",
      "\u001b[1;31mRun the following command to install 'ipykernel' into the Python environment. \n",
      "\u001b[1;31mCommand: 'c:/Users/KyriacosAntoniades/AppData/Local/Microsoft/WindowsApps/python3.10.exe -m pip install ipykernel -U --force-reinstall'"
     ]
    }
   ],
   "source": [
    "# Saving a Resized Image in Python Pillow\n",
    "from PIL import Image\n",
    "with Image.open ('https://e6v4p8w2.rocketcdn.me/Users/datagy/Desktop/Original.png') as im:\n",
    "    resized = im.resize((600,400))\n",
    "    resized.save('https://e6v4p8w2.rocketcdn.me/Users/datagy/Desktop/Resized.png')"
   ]
  },
  {
   "cell_type": "markdown",
   "metadata": {},
   "source": [
    "## Resizing an Image with Pillow to a Certain Percentage\n",
    "\n",
    "There may be times when you simply want to resize an image to be a percentage of the original size. This can be done by using a custom function to calculate the tuple size that you want to use.\n",
    "\n",
    "\n",
    "Let’s see how we can use a custom function to define the percentage that you want to resize an image by:"
   ]
  },
  {
   "cell_type": "code",
   "execution_count": null,
   "metadata": {},
   "outputs": [],
   "source": [
    "# Resizing an Image by Percentage\n",
    "from PIL import Image\n",
    "\n",
    "def resize_by_percentage(image, outfile, percentage):\n",
    "    with Image.open (image) as im:\n",
    "        width, height = im.size\n",
    "        resized_dimensions = (int(width * percentage), int(height * percentage))\n",
    "        resized = im.resize(resized_dimensions)\n",
    "        resized.save(outfile)\n",
    "\n",
    "resize_by_percentage('https://e6v4p8w2.rocketcdn.me/Users/datagy/Desktop/Original.png', 'https://e6v4p8w2.rocketcdn.me/Users/datagy/Desktop/Resized.png', 0.5)"
   ]
  },
  {
   "cell_type": "markdown",
   "metadata": {},
   "source": [
    "Let’s break down what we did here:\n",
    "\n",
    "- We defined a new function that takes three parameters: the original file path, the new file path, and the percentage by which to resize\n",
    "- The image is opened and the dimensions are defined\n",
    "- The dimensions are resized by the percentage that’s defined\n",
    "- The .resize() method is used to resize the image\n",
    "- Finally, the image is saved using the .save() method\n",
    "\n",
    "\n",
    "Running the above function generates the following image:\n",
    "\n",
    "Python Resize Images Resized\n",
    "The resized image\n",
    "\n",
    "## How to Resize an Image with Pillow thumbnail\n",
    "\n",
    "The Pillow thumbnail method returns an image that is scaled to its original aspect ratio. The method allows you to pass in a tuple of values that represent the maximum width and height of the image that is meant to be generated.\n",
    "\n",
    "This allows you to ensure that images have either a consistent width or height when working with multiple images. Let’s see how we can use the .thumbail() method to resize our image.\n",
    "\n",
    "The tuple that you pass in represents the maximum size of an image, on either dimension. So passing in (300, 200) would generate an image that is no bigger than 300px wide or 200px wide.\n",
    "\n",
    "Let’s apply this method to resize our image and find the resulting dimensions:"
   ]
  },
  {
   "cell_type": "code",
   "execution_count": null,
   "metadata": {},
   "outputs": [],
   "source": [
    "# Using .thumbnail() to Maintain Aspect Rations\n",
    "from PIL import Image\n",
    "\n",
    "with Image.open('https://e6v4p8w2.rocketcdn.me/Users/datagy/Desktop/Original.png') as im:\n",
    "    print(im.size)\n",
    "    im.thumbnail((300, 150))\n",
    "    print(im.size)\n",
    "\n",
    "# Returns: \n",
    "# (930, 620)\n",
    "# (225, 150)"
   ]
  },
  {
   "cell_type": "markdown",
   "metadata": {},
   "source": [
    "Let’s see what the image now looks like:\n",
    "\n",
    "Python Resize Images Thumbnail\n",
    "The thumbnail version of the resized image\n",
    "\n",
    "\n",
    "Let’s see how we can now save the image using the .save() method:"
   ]
  },
  {
   "cell_type": "code",
   "execution_count": null,
   "metadata": {},
   "outputs": [],
   "source": [
    "# Saving a Resized Image Using Pillow\n",
    "from PIL import Image\n",
    "\n",
    "with Image.open('/Users/datagy/Desktop/Original 2.png') as im:\n",
    "    im.thumbnail((300, 150))\n",
    "    im.save('https://e6v4p8w2.rocketcdn.me/Users/datagy/Desktop/thumbnail.png')"
   ]
  },
  {
   "cell_type": "markdown",
   "metadata": {},
   "source": [
    "## How to Resize Multiple Images with Python\n",
    "We can also use Python to resize images in bulk. This allows us to, for example, loop over all files in a directory and resize all the images in that directory.\n",
    "\n",
    "Let’s combine what we’ve learned about the Pillow .thumbnail() method and loop over files in a directory to return their resized versions:"
   ]
  },
  {
   "cell_type": "code",
   "execution_count": null,
   "metadata": {},
   "outputs": [],
   "source": [
    "# Resize all Images in a Directory\n",
    "from PIL import Image\n",
    "import os\n",
    "\n",
    "directory = '/Users/datagy/Desktop/images'\n",
    "for file in os.listdir(directory):\n",
    "    if file.endswith(('jpeg', 'png', 'jpg')):\n",
    "        filepath = os.path.join(directory, file)\n",
    "        outfile = os.path.join(directory, 'resized_'+file)\n",
    "        with Image.open(directory+'/'+file) as im:\n",
    "            im.thumbnail((300, 200))\n",
    "            im.save(outfile)"
   ]
  },
  {
   "cell_type": "markdown",
   "metadata": {},
   "source": [
    "\n",
    "\n",
    "What we did:\n",
    "\n",
    "- loaded the directory into a string. Change this to whatever folder is holding the images you want to resize.\n",
    "- loop over each file in the listdir() method of the directory </br>\n",
    "(If the file ends with a jpeg, png, or jpg, then we resize the image. </br>\n",
    "We do this by first getting the full path to the file and generating an outfile name for that file. </br>\n",
    "The outfile simply prepends 'resized_' to the front of the name of the file)</br>\n",
    "- load the file using Pillow and use the thumbnail method to resize the image.\n",
    "- save the image using the .save() method.\n",
    "\n",
    "## Conclusion\n",
    "\n",
    "In this tutorial, you learn how to resize images you Python’s Pillow library. \n",
    "You first learn how to open an image safely as a Pillow Image object. \n",
    "Then, you learn how to resize images using the .resize() and .thumbnail() methods. \n",
    "Finally, you learn how to batch resize images using the os library to loop over files in a directory."
   ]
  },
  {
   "cell_type": "markdown",
   "metadata": {},
   "source": []
  }
 ],
 "metadata": {
  "kernelspec": {
   "display_name": "Python 3.10.8 64-bit (microsoft store)",
   "language": "python",
   "name": "python3"
  },
  "language_info": {
   "name": "python",
   "version": "3.10.8"
  },
  "orig_nbformat": 4,
  "vscode": {
   "interpreter": {
    "hash": "1f56958517e0e6b43868e47d652ac4c144a964981f9eec75f43ea86525d28fda"
   }
  }
 },
 "nbformat": 4,
 "nbformat_minor": 2
}
